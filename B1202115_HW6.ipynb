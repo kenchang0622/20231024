{
  "nbformat": 4,
  "nbformat_minor": 0,
  "metadata": {
    "colab": {
      "provenance": []
    },
    "kernelspec": {
      "name": "python3",
      "display_name": "Python 3"
    },
    "language_info": {
      "name": "python"
    }
  },
  "cells": [
    {
      "cell_type": "code",
      "source": [
        "try:\n",
        "  a=float(input('請輸入身高(公分):'))\n",
        "  b=float(input('請輸入體重:'))\n",
        "  def bmi(a,b):\n",
        "    return b/((a/100)**2)\n",
        "  if bmi(a,b)<18.5:\n",
        "    print('BMI',bmi(a,b))\n",
        "    print('體位:過輕')\n",
        "  elif 18.5<=bmi(a,b)<24:\n",
        "    print('BMI',bmi(a,b))\n",
        "    print('體位:適中')\n",
        "  elif 24<=bmi(a,b)<27:\n",
        "    print('BMI',bmi(a,b))\n",
        "    print('體位:過重')\n",
        "  else:\n",
        "    print('BMI',bmi(a,b))\n",
        "    print('體位:肥胖')\n",
        "except:\n",
        "  print('輸入內容錯誤')"
      ],
      "metadata": {
        "colab": {
          "base_uri": "https://localhost:8080/"
        },
        "id": "vcZeV1pH64m8",
        "outputId": "79a1bd34-e906-475d-d4db-63860b1ddb57"
      },
      "execution_count": null,
      "outputs": [
        {
          "output_type": "stream",
          "name": "stdout",
          "text": [
            "請輸入身高(公分):170\n",
            "請輸入體重:70\n",
            "BMI 24.221453287197235\n",
            "體位:過重\n"
          ]
        }
      ]
    },
    {
      "cell_type": "code",
      "source": [
        "height=8\n",
        "for i in range(height):\n",
        "  print(' '*(height-i-1)+'*'*(2*i+1))\n",
        "for i in range(5):\n",
        "  print(' '*(height-5//2)+'***')"
      ],
      "metadata": {
        "colab": {
          "base_uri": "https://localhost:8080/"
        },
        "id": "AvVR28zcsXp1",
        "outputId": "5f17614f-9be7-4bbe-c603-9f9b58b8ab59"
      },
      "execution_count": null,
      "outputs": [
        {
          "output_type": "stream",
          "name": "stdout",
          "text": [
            "       *\n",
            "      ***\n",
            "     *****\n",
            "    *******\n",
            "   *********\n",
            "  ***********\n",
            " *************\n",
            "***************\n",
            "      ***\n",
            "      ***\n",
            "      ***\n",
            "      ***\n",
            "      ***\n"
          ]
        }
      ]
    }
  ]
}